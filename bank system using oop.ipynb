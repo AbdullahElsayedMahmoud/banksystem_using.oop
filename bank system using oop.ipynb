{
 "cells": [
  {
   "cell_type": "markdown",
   "metadata": {},
   "source": [
    "bank system using OOP"
   ]
  },
  {
   "cell_type": "code",
   "execution_count": 7,
   "metadata": {},
   "outputs": [
    {
     "name": "stdout",
     "output_type": "stream",
     "text": [
      "Deposited 900 into account 7752116935. New balance: 4000\n",
      "Withdrew 300 from account 7752116935. New balance: 3700\n",
      "Account 7752116935 balance: 3700\n",
      "Name: abdullah elsayed\n",
      "Position: Manager\n",
      "Salary: 7300\n"
     ]
    }
   ],
   "source": [
    "class Customer:\n",
    "    def __init__(self, name, account_number, balance=0):\n",
    "        self.name = name\n",
    "        self.account_number = account_number\n",
    "        self.balance = balance\n",
    "\n",
    "    def deposit(self, amount):\n",
    "        self.balance += amount\n",
    "        print(f\"Deposited {amount} into account {self.account_number}. New balance: {self.balance}\")\n",
    "\n",
    "    def withdraw(self, amount):\n",
    "        if self.balance >= amount:\n",
    "            self.balance -= amount\n",
    "            print(f\"Withdrew {amount} from account {self.account_number}. New balance: {self.balance}\")\n",
    "        else:\n",
    "            print(\"Insufficient funds!\")\n",
    "\n",
    "    def display_balance(self):\n",
    "        print(f\"Account {self.account_number} balance: {self.balance}\")\n",
    "\n",
    "\n",
    "class Employee:\n",
    "    def __init__(self, name, position, salary):\n",
    "        self.name = name\n",
    "        self.position = position\n",
    "        self.salary = salary\n",
    "\n",
    "    def display_info(self):\n",
    "        print(f\"Name: {self.name}\")\n",
    "        print(f\"Position: {self.position}\")\n",
    "        print(f\"Salary: {self.salary}\")\n",
    "\n",
    "\n",
    "# Creating a customer and performing operations\n",
    "customer1 = Customer(\"mohamed mahmoud\", \"7752116935\", 3100)\n",
    "customer1.deposit(900)\n",
    "customer1.withdraw(300)\n",
    "customer1.display_balance()\n",
    "\n",
    "# Creating an employee and displaying information\n",
    "employee1 = Employee(\"abdullah elsayed\", \"Manager\", 7300)\n",
    "employee1.display_info()"
   ]
  }
 ],
 "metadata": {
  "kernelspec": {
   "display_name": "Python 3",
   "language": "python",
   "name": "python3"
  },
  "language_info": {
   "codemirror_mode": {
    "name": "ipython",
    "version": 3
   },
   "file_extension": ".py",
   "mimetype": "text/x-python",
   "name": "python",
   "nbconvert_exporter": "python",
   "pygments_lexer": "ipython3",
   "version": "3.11.4"
  },
  "orig_nbformat": 4
 },
 "nbformat": 4,
 "nbformat_minor": 2
}
